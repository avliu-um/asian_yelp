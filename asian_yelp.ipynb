{
 "cells": [
  {
   "cell_type": "code",
   "execution_count": 93,
   "id": "8f127eb2-11c8-4642-8d65-3e91e3dcd810",
   "metadata": {},
   "outputs": [],
   "source": [
    "import pandas as pd\n",
    "import numpy as np\n",
    "import matplotlib.pyplot as plt\n",
    "import json\n",
    "from bs4 import BeautifulSoup\n",
    "from urllib.request import Request, urlopen\n",
    "import time\n",
    "import requests\n",
    "from deepface import DeepFace\n",
    "import traceback"
   ]
  },
  {
   "cell_type": "code",
   "execution_count": null,
   "id": "c6f9a52a-beb8-4746-9f46-c31b8cec8ef9",
   "metadata": {},
   "outputs": [],
   "source": []
  },
  {
   "cell_type": "code",
   "execution_count": null,
   "id": "19cc1abc-4bbe-447a-b8be-cffcd5f8e652",
   "metadata": {},
   "outputs": [],
   "source": []
  },
  {
   "cell_type": "code",
   "execution_count": 82,
   "id": "2563e18a-5270-48e4-86fc-b25bae8a6d6b",
   "metadata": {},
   "outputs": [],
   "source": [
    "# Get the user ID from the review html\n",
    "\n",
    "def get_user_id(review):\n",
    "    user_url = soup.select(\"a[href^='/user_details']\")[0]['href']\n",
    "    user_id = user_url[user_url.find('userid=')+len('userid='):]\n",
    "    user_base_url = 'https://www.yelp.com/user_details?userid='\n",
    "    user_url = '{0}{1}'.format(user_base_url, user_id)\n",
    "\n",
    "def get_url(url):\n",
    "    req = Request(url)\n",
    "    while True:\n",
    "        try:\n",
    "            html_page = urlopen(req) \n",
    "            break\n",
    "        # TODO: Fix\n",
    "        except requests.exceptions.HTTPError as err:\n",
    "            print(err.response.status_code)\n",
    "            print(err.response.text)\n",
    "            time.sleep(10)\n",
    "            pass\n",
    "    return html_page\n",
    "\n",
    "def argmax(d):\n",
    "    h_k = None\n",
    "    h_v = 0\n",
    "    for k, v in d.items():\n",
    "        if v > h_v:\n",
    "            h_k = k\n",
    "            h_v = v\n",
    "            #print(f'highest_v: {h_v}')\n",
    "    return h_k"
   ]
  },
  {
   "cell_type": "code",
   "execution_count": 40,
   "id": "4b88f93e-edc4-429a-80db-f8f922d30b75",
   "metadata": {},
   "outputs": [
    {
     "data": {
      "text/plain": [
       "<http.client.HTTPResponse at 0x7fe565d01730>"
      ]
     },
     "execution_count": 40,
     "metadata": {},
     "output_type": "execute_result"
    }
   ],
   "source": [
    "get_url('https://www.gmail.com')"
   ]
  },
  {
   "cell_type": "code",
   "execution_count": 41,
   "id": "4867a372-2e29-40e8-bf4f-2ed2442c8066",
   "metadata": {},
   "outputs": [
    {
     "data": {
      "text/plain": [
       "<http.client.HTTPResponse at 0x7fe50002c5b0>"
      ]
     },
     "execution_count": 41,
     "metadata": {},
     "output_type": "execute_result"
    }
   ],
   "source": [
    "get_url('https://www.yelp.com/biz/china-palace-ypsilanti-2?start=20')"
   ]
  },
  {
   "cell_type": "code",
   "execution_count": null,
   "id": "96c7ba96-24ca-4c2f-a181-b9f65a22be9b",
   "metadata": {},
   "outputs": [],
   "source": []
  },
  {
   "cell_type": "code",
   "execution_count": 127,
   "id": "685c4cf0-ae4b-4095-ac48-9429cd9decac",
   "metadata": {},
   "outputs": [
    {
     "data": {
      "text/plain": [
       "3.5"
      ]
     },
     "execution_count": 127,
     "metadata": {},
     "output_type": "execute_result"
    }
   ],
   "source": [
    "page_count = 0\n",
    "running_asian_star_total = 0\n",
    "count_asians = 0\n",
    "desired_asians = 10\n",
    "\n",
    "example_restaurant_url = 'https://www.yelp.com/biz/tk-wu-ann-arbor'\n",
    "\n",
    "# Get total star rating\n",
    "req = Request(example_restaurant_url)\n",
    "html_page = urlopen(req)\n",
    "soup = BeautifulSoup(html_page, 'html.parser')\n",
    "\n",
    "# ANNOYING- why is it that there's a space before 'five-stars' to find it if using Chrome, but not if using selector?\n",
    "overall_star_rating = float(\n",
    "    soup.select(\"div[data-testid='review-summary'] div[class^='five-stars']\")[0]['aria-label'][:-len(' star rating')]\n",
    ")\n",
    "overall_star_rating"
   ]
  },
  {
   "cell_type": "code",
   "execution_count": 128,
   "id": "07c41650-0957-43cf-9ceb-630c83c07b1c",
   "metadata": {},
   "outputs": [
    {
     "data": {
      "text/plain": [
       "'https://www.yelp.com/biz/china-palace-ypsilanti-2/?start=60&sort_by=date_desc'"
      ]
     },
     "execution_count": 128,
     "metadata": {},
     "output_type": "execute_result"
    }
   ],
   "source": [
    "restaurant_url"
   ]
  },
  {
   "cell_type": "code",
   "execution_count": 129,
   "id": "57741fc2-53e4-4b66-ba2a-6afe64b3deea",
   "metadata": {
    "tags": []
   },
   "outputs": [
    {
     "name": "stdout",
     "output_type": "stream",
     "text": [
      "url: https://www.yelp.com/biz/tk-wu-ann-arbor/?sort_by=date_desc\n",
      "looking at user id z-F1v_u4_gStaw6R0AgNnA\n",
      "Face could not be detected. Please confirm that the picture is a face photo or consider to set enforce_detection param to False.\n",
      "looking at user id 175uYPDHoOdYMIhSi_j9-Q\n",
      "Face could not be detected. Please confirm that the picture is a face photo or consider to set enforce_detection param to False.\n",
      "looking at user id G_1BJlqGvGDlEvyzPNERmg\n",
      "Face could not be detected. Please confirm that the picture is a face photo or consider to set enforce_detection param to False.\n",
      "looking at user id LP9E_9T0dH9WP76EJ7eUvg\n"
     ]
    },
    {
     "name": "stderr",
     "output_type": "stream",
     "text": [
      "Action: race: 100%|██████████| 1/1 [00:00<00:00,  3.71it/s]\n",
      "Action: race: 100%|██████████| 1/1 [00:00<00:00,  3.72it/s]\n"
     ]
    },
    {
     "name": "stdout",
     "output_type": "stream",
     "text": [
      "user is predicted asian\n",
      "1 Asians found with running rating of 5/5\n",
      "looking at user id nSt9bq9-aFhOwOdFgJciMA\n"
     ]
    },
    {
     "name": "stderr",
     "output_type": "stream",
     "text": [
      "Action: race: 100%|██████████| 1/1 [00:00<00:00,  3.51it/s]\n"
     ]
    },
    {
     "name": "stdout",
     "output_type": "stream",
     "text": [
      "user is predicted asian\n",
      "2 Asians found with running rating of 9/5\n",
      "looking at user id lfefbHZT2REBX1VHv6QB7g\n",
      "Face could not be detected. Please confirm that the picture is a face photo or consider to set enforce_detection param to False.\n",
      "looking at user id DvJ7XddXlBTsi7Zro6x32A\n",
      "Face could not be detected. Please confirm that the picture is a face photo or consider to set enforce_detection param to False.\n",
      "looking at user id gwXGqUGR70FSN94zLoMHOQ\n",
      "Face could not be detected. Please confirm that the picture is a face photo or consider to set enforce_detection param to False.\n",
      "looking at user id HElEfBFwzSs67EyQNpiOYg\n",
      "Face could not be detected. Please confirm that the picture is a face photo or consider to set enforce_detection param to False.\n",
      "looking at user id dgYqFfJspVivXP3tHoj6eg\n",
      "Face could not be detected. Please confirm that the picture is a face photo or consider to set enforce_detection param to False.\n",
      "url: https://www.yelp.com/biz/tk-wu-ann-arbor/?start=10&sort_by=date_desc\n",
      "looking at user id MtdKjw2pGRYDJoWmwjie-g\n",
      "Face could not be detected. Please confirm that the picture is a face photo or consider to set enforce_detection param to False.\n",
      "looking at user id UmW3Yfe6lme8ZlESJDfnyA\n",
      "Face could not be detected. Please confirm that the picture is a face photo or consider to set enforce_detection param to False.\n",
      "looking at user id 5fqa0hpoiJ-6ECHxUcNoHg\n"
     ]
    },
    {
     "name": "stderr",
     "output_type": "stream",
     "text": [
      "Action: race: 100%|██████████| 1/1 [00:00<00:00,  3.58it/s]\n",
      "Action: race: 100%|██████████| 1/1 [00:00<00:00,  3.74it/s]\n",
      "Action: race: 100%|██████████| 1/1 [00:00<00:00,  3.76it/s]\n",
      "Action: race: 100%|██████████| 1/1 [00:00<00:00,  3.75it/s]\n"
     ]
    },
    {
     "name": "stdout",
     "output_type": "stream",
     "text": [
      "user is predicted asian\n",
      "3 Asians found with running rating of 14/5\n",
      "looking at user id zIb0AKWEZv-wkjlLZYD8ww\n"
     ]
    },
    {
     "name": "stderr",
     "output_type": "stream",
     "text": [
      "Action: race: 100%|██████████| 1/1 [00:00<00:00,  3.58it/s]\n"
     ]
    },
    {
     "name": "stdout",
     "output_type": "stream",
     "text": [
      "user is predicted white\n",
      "looking at user id yjvHKTo5LOyLnqOrxoJySw\n",
      "Face could not be detected. Please confirm that the picture is a face photo or consider to set enforce_detection param to False.\n",
      "looking at user id 1RAXoe1yhbPHQfbJCQ0CDQ\n",
      "Face could not be detected. Please confirm that the picture is a face photo or consider to set enforce_detection param to False.\n",
      "looking at user id oKUSodyqufhgyMPzRW5sow\n",
      "Face could not be detected. Please confirm that the picture is a face photo or consider to set enforce_detection param to False.\n",
      "looking at user id ULpa6Ys47J_LDKJmWsu1eA\n",
      "Face could not be detected. Please confirm that the picture is a face photo or consider to set enforce_detection param to False.\n",
      "looking at user id uyYNdgCLqgcA3oWWaGhxKw\n",
      "Face could not be detected. Please confirm that the picture is a face photo or consider to set enforce_detection param to False.\n",
      "looking at user id VJEKwLe08TehSJX3_yTETg\n"
     ]
    },
    {
     "name": "stderr",
     "output_type": "stream",
     "text": [
      "Action: race: 100%|██████████| 1/1 [00:00<00:00,  3.66it/s]\n"
     ]
    },
    {
     "name": "stdout",
     "output_type": "stream",
     "text": [
      "user is predicted black\n",
      "url: https://www.yelp.com/biz/tk-wu-ann-arbor/?start=20&sort_by=date_desc\n",
      "looking at user id GdXzCG4KSJtXn4-HiZZFcQ\n",
      "Face could not be detected. Please confirm that the picture is a face photo or consider to set enforce_detection param to False.\n",
      "looking at user id 68S2Jtg2PfXZdXYbpf6gSQ\n"
     ]
    },
    {
     "name": "stderr",
     "output_type": "stream",
     "text": [
      "Action: race: 100%|██████████| 1/1 [00:00<00:00,  3.58it/s]\n"
     ]
    },
    {
     "name": "stdout",
     "output_type": "stream",
     "text": [
      "user is predicted middle eastern\n",
      "looking at user id 0vIskZI6xsvxds_YcI_8_w\n",
      "Face could not be detected. Please confirm that the picture is a face photo or consider to set enforce_detection param to False.\n",
      "looking at user id 3y_AYZOlEVkdGG7DgGyERQ\n",
      "Face could not be detected. Please confirm that the picture is a face photo or consider to set enforce_detection param to False.\n",
      "looking at user id Qzx0iJn3tOWOdPtn8TVjqg\n",
      "Face could not be detected. Please confirm that the picture is a face photo or consider to set enforce_detection param to False.\n",
      "looking at user id ksr6BWqyeEPQ24I5AqBQzw\n",
      "Face could not be detected. Please confirm that the picture is a face photo or consider to set enforce_detection param to False.\n",
      "looking at user id dG0o7KRAZUt6xMgWFCUrEw\n",
      "Face could not be detected. Please confirm that the picture is a face photo or consider to set enforce_detection param to False.\n",
      "looking at user id aobcs6GwfCflbsMxcIVCsQ\n",
      "Face could not be detected. Please confirm that the picture is a face photo or consider to set enforce_detection param to False.\n",
      "looking at user id Qe2wQvYuoFIKlU9Vxg34Kw\n",
      "Face could not be detected. Please confirm that the picture is a face photo or consider to set enforce_detection param to False.\n",
      "looking at user id G5U8tKrd5wLOSpZqO1Jxtg\n"
     ]
    },
    {
     "name": "stderr",
     "output_type": "stream",
     "text": [
      "Action: race: 100%|██████████| 1/1 [00:00<00:00,  3.60it/s]\n"
     ]
    },
    {
     "name": "stdout",
     "output_type": "stream",
     "text": [
      "user is predicted asian\n",
      "4 Asians found with running rating of 19/5\n",
      "url: https://www.yelp.com/biz/tk-wu-ann-arbor/?start=30&sort_by=date_desc\n",
      "url: https://www.yelp.com/biz/tk-wu-ann-arbor/?start=40&sort_by=date_desc\n",
      "looking at user id rr5zzVWVu0u-P5P1rHIV-Q\n"
     ]
    },
    {
     "name": "stderr",
     "output_type": "stream",
     "text": [
      "Action: race: 100%|██████████| 1/1 [00:00<00:00,  3.74it/s]\n"
     ]
    },
    {
     "name": "stdout",
     "output_type": "stream",
     "text": [
      "user is predicted white\n",
      "looking at user id Pv8N1tgey6VBog6OamyiVQ\n",
      "Face could not be detected. Please confirm that the picture is a face photo or consider to set enforce_detection param to False.\n",
      "looking at user id DB5aHurhNzFHFX9cKUS59g\n",
      "Face could not be detected. Please confirm that the picture is a face photo or consider to set enforce_detection param to False.\n",
      "looking at user id iQwybiM_kebFwW-L8bpEzQ\n",
      "Face could not be detected. Please confirm that the picture is a face photo or consider to set enforce_detection param to False.\n",
      "looking at user id B9ADE4RCuX6ad5JiMD4wqg\n",
      "Face could not be detected. Please confirm that the picture is a face photo or consider to set enforce_detection param to False.\n",
      "looking at user id ZwZdmPn98t3cIoqVWVGarg\n",
      "Face could not be detected. Please confirm that the picture is a face photo or consider to set enforce_detection param to False.\n",
      "looking at user id au4XpDd9kDrWy5yatByiMg\n",
      "Face could not be detected. Please confirm that the picture is a face photo or consider to set enforce_detection param to False.\n",
      "looking at user id mChvCuGO_RBy4kmGZLPikA\n",
      "Face could not be detected. Please confirm that the picture is a face photo or consider to set enforce_detection param to False.\n",
      "looking at user id xPpApMitEu3JJkKns7mJdw\n"
     ]
    },
    {
     "name": "stderr",
     "output_type": "stream",
     "text": [
      "Action: race: 100%|██████████| 1/1 [00:00<00:00,  3.73it/s]\n"
     ]
    },
    {
     "name": "stdout",
     "output_type": "stream",
     "text": [
      "user is predicted white\n",
      "looking at user id 8qaoPvwCG3nGKBeSzWpVyg\n",
      "Face could not be detected. Please confirm that the picture is a face photo or consider to set enforce_detection param to False.\n",
      "url: https://www.yelp.com/biz/tk-wu-ann-arbor/?start=50&sort_by=date_desc\n",
      "looking at user id guv6swhDZorSCPeu-hCFWQ\n",
      "Face could not be detected. Please confirm that the picture is a face photo or consider to set enforce_detection param to False.\n",
      "looking at user id sfqW4l8qWwDi-oXnisjHWA\n"
     ]
    },
    {
     "name": "stderr",
     "output_type": "stream",
     "text": [
      "Action: race: 100%|██████████| 1/1 [00:00<00:00,  3.49it/s]\n",
      "Action: race: 100%|██████████| 1/1 [00:00<00:00,  3.75it/s]\n"
     ]
    },
    {
     "name": "stdout",
     "output_type": "stream",
     "text": [
      "user is predicted white\n",
      "looking at user id DgCeSdefclwYtpbEWgu6Nw\n",
      "Face could not be detected. Please confirm that the picture is a face photo or consider to set enforce_detection param to False.\n",
      "looking at user id Y25a3p_NB8Ca5b9PHVfPUw\n"
     ]
    },
    {
     "name": "stderr",
     "output_type": "stream",
     "text": [
      "Action: race: 100%|██████████| 1/1 [00:00<00:00,  3.58it/s]\n"
     ]
    },
    {
     "name": "stdout",
     "output_type": "stream",
     "text": [
      "user is predicted asian\n",
      "5 Asians found with running rating of 21/5\n",
      "looking at user id WROYla0F3NjxMGMYZ7_1uw\n",
      "Face could not be detected. Please confirm that the picture is a face photo or consider to set enforce_detection param to False.\n",
      "looking at user id IFLNFPXAHV-LPlekIF-RbQ\n",
      "Face could not be detected. Please confirm that the picture is a face photo or consider to set enforce_detection param to False.\n",
      "looking at user id 5Ca6Un-0DCt5-Rxmk5FViQ\n"
     ]
    },
    {
     "name": "stderr",
     "output_type": "stream",
     "text": [
      "Action: race: 100%|██████████| 1/1 [00:00<00:00,  3.56it/s]\n"
     ]
    },
    {
     "name": "stdout",
     "output_type": "stream",
     "text": [
      "user is predicted latino hispanic\n",
      "looking at user id oGeakO3nOp1gqlOddgb96Q\n",
      "Face could not be detected. Please confirm that the picture is a face photo or consider to set enforce_detection param to False.\n",
      "looking at user id w0w50umbgu5t-wc5fmfkkQ\n",
      "Face could not be detected. Please confirm that the picture is a face photo or consider to set enforce_detection param to False.\n",
      "looking at user id ro7rxMaLNcyPlZAynjITPw\n",
      "Face could not be detected. Please confirm that the picture is a face photo or consider to set enforce_detection param to False.\n",
      "url: https://www.yelp.com/biz/tk-wu-ann-arbor/?start=60&sort_by=date_desc\n",
      "looking at user id qVbFU5ssFc22F4FVpjNZbQ\n",
      "Face could not be detected. Please confirm that the picture is a face photo or consider to set enforce_detection param to False.\n",
      "looking at user id dCFLMrhu19sjBF0T5PjsLg\n",
      "Face could not be detected. Please confirm that the picture is a face photo or consider to set enforce_detection param to False.\n",
      "looking at user id Xj0O2l0bp633ebmG468aZw\n",
      "Face could not be detected. Please confirm that the picture is a face photo or consider to set enforce_detection param to False.\n",
      "looking at user id miFLOKz72aDAsjoaZkn-tw\n"
     ]
    },
    {
     "name": "stderr",
     "output_type": "stream",
     "text": [
      "Action: race: 100%|██████████| 1/1 [00:00<00:00,  3.50it/s]\n"
     ]
    },
    {
     "name": "stdout",
     "output_type": "stream",
     "text": [
      "user is predicted white\n",
      "looking at user id i2yMHbsOIq_qpIsodkF9fw\n",
      "Face could not be detected. Please confirm that the picture is a face photo or consider to set enforce_detection param to False.\n",
      "looking at user id _euWLR-TyxJv_kVMoxVbag\n",
      "Face could not be detected. Please confirm that the picture is a face photo or consider to set enforce_detection param to False.\n",
      "looking at user id VtLgFNPFHGnA4-Z9IZSEBA\n",
      "Face could not be detected. Please confirm that the picture is a face photo or consider to set enforce_detection param to False.\n",
      "looking at user id 96XMcLHtx1MkMYc6s8OCRA\n"
     ]
    },
    {
     "name": "stderr",
     "output_type": "stream",
     "text": [
      "Action: race: 100%|██████████| 1/1 [00:00<00:00,  3.48it/s]\n"
     ]
    },
    {
     "name": "stdout",
     "output_type": "stream",
     "text": [
      "user is predicted white\n",
      "looking at user id lRVTV67MqJNLEJIFT7Ha_w\n",
      "Face could not be detected. Please confirm that the picture is a face photo or consider to set enforce_detection param to False.\n",
      "looking at user id RNb7C8V_4r3d8JYdzLoGCQ\n"
     ]
    },
    {
     "name": "stderr",
     "output_type": "stream",
     "text": [
      "Action: race: 100%|██████████| 1/1 [00:00<00:00,  3.72it/s]\n",
      "Action: race: 100%|██████████| 1/1 [00:00<00:00,  3.75it/s]\n"
     ]
    },
    {
     "name": "stdout",
     "output_type": "stream",
     "text": [
      "user is predicted white\n",
      "url: https://www.yelp.com/biz/tk-wu-ann-arbor/?start=70&sort_by=date_desc\n",
      "looking at user id QaCCbhaxr7XXvqiMcewsLg\n",
      "Face could not be detected. Please confirm that the picture is a face photo or consider to set enforce_detection param to False.\n",
      "looking at user id psSh0DDsrRfQWNL7eGHQMQ\n"
     ]
    },
    {
     "name": "stderr",
     "output_type": "stream",
     "text": [
      "Action: race: 100%|██████████| 1/1 [00:00<00:00,  3.59it/s]\n"
     ]
    },
    {
     "name": "stdout",
     "output_type": "stream",
     "text": [
      "user is predicted asian\n",
      "6 Asians found with running rating of 24/5\n",
      "looking at user id HxCkbQ4sE6PUDx2F366dfQ\n",
      "Face could not be detected. Please confirm that the picture is a face photo or consider to set enforce_detection param to False.\n",
      "looking at user id JTf8nK_6kkhMgEB4iSJUyw\n",
      "Face could not be detected. Please confirm that the picture is a face photo or consider to set enforce_detection param to False.\n",
      "looking at user id oLKqp2iPKDSC33kAnGcdvQ\n",
      "Face could not be detected. Please confirm that the picture is a face photo or consider to set enforce_detection param to False.\n",
      "looking at user id tQJJtHShOujzml37qTX_4Q\n",
      "Face could not be detected. Please confirm that the picture is a face photo or consider to set enforce_detection param to False.\n",
      "looking at user id ljKg3W_H7569vs4dVl4e7g\n"
     ]
    },
    {
     "name": "stderr",
     "output_type": "stream",
     "text": [
      "Action: race: 100%|██████████| 1/1 [00:00<00:00,  3.69it/s]\n"
     ]
    },
    {
     "name": "stdout",
     "output_type": "stream",
     "text": [
      "user is predicted asian\n",
      "7 Asians found with running rating of 28/5\n",
      "looking at user id 3HRipkZmJhBuu-u-diE43A\n"
     ]
    },
    {
     "name": "stderr",
     "output_type": "stream",
     "text": [
      "Action: race: 100%|██████████| 1/1 [00:00<00:00,  3.50it/s]\n",
      "Action: race: 100%|██████████| 1/1 [00:00<00:00,  3.79it/s]\n"
     ]
    },
    {
     "name": "stdout",
     "output_type": "stream",
     "text": [
      "user is predicted middle eastern\n",
      "looking at user id -9OIms4jE1bdD1fz7AzAFA\n",
      "Face could not be detected. Please confirm that the picture is a face photo or consider to set enforce_detection param to False.\n",
      "looking at user id J-fKm7wGf0e_913mL637Gg\n"
     ]
    },
    {
     "name": "stderr",
     "output_type": "stream",
     "text": [
      "Action: race: 100%|██████████| 1/1 [00:00<00:00,  3.63it/s]\n",
      "Action: race: 100%|██████████| 1/1 [00:00<00:00,  3.69it/s]\n"
     ]
    },
    {
     "name": "stdout",
     "output_type": "stream",
     "text": [
      "user is predicted asian\n",
      "8 Asians found with running rating of 33/5\n",
      "url: https://www.yelp.com/biz/tk-wu-ann-arbor/?start=80&sort_by=date_desc\n",
      "looking at user id dZPxYaX7clAa-YOkyOwm-g\n"
     ]
    },
    {
     "name": "stderr",
     "output_type": "stream",
     "text": [
      "Action: race: 100%|██████████| 1/1 [00:00<00:00,  3.70it/s]\n"
     ]
    },
    {
     "name": "stdout",
     "output_type": "stream",
     "text": [
      "user is predicted asian\n",
      "9 Asians found with running rating of 37/5\n",
      "looking at user id O0XrkjuNSyNsmwb27OvInA\n"
     ]
    },
    {
     "name": "stderr",
     "output_type": "stream",
     "text": [
      "Action: race: 100%|██████████| 1/1 [00:00<00:00,  3.55it/s]\n"
     ]
    },
    {
     "name": "stdout",
     "output_type": "stream",
     "text": [
      "user is predicted latino hispanic\n",
      "looking at user id lXYaGU2jhttiTXDQVKLDtQ\n",
      "Face could not be detected. Please confirm that the picture is a face photo or consider to set enforce_detection param to False.\n",
      "looking at user id joFAJDSxQpFd_uBbUi-grA\n"
     ]
    },
    {
     "name": "stderr",
     "output_type": "stream",
     "text": [
      "Action: race: 100%|██████████| 1/1 [00:00<00:00,  3.63it/s]\n",
      "Action: race: 100%|██████████| 1/1 [00:00<00:00,  3.74it/s]\n"
     ]
    },
    {
     "name": "stdout",
     "output_type": "stream",
     "text": [
      "user is predicted asian\n",
      "10 Asians found with running rating of 41/5\n",
      "looking at user id PUkF_AHx0PpRJW6GQZBchg\n"
     ]
    },
    {
     "name": "stderr",
     "output_type": "stream",
     "text": [
      "Action: race: 100%|██████████| 1/1 [00:00<00:00,  3.73it/s]\n"
     ]
    },
    {
     "name": "stdout",
     "output_type": "stream",
     "text": [
      "user is predicted indian\n",
      "looking at user id UPC4orX2XMblQosGrH-nwQ\n"
     ]
    },
    {
     "name": "stderr",
     "output_type": "stream",
     "text": [
      "Action: race: 100%|██████████| 1/1 [00:00<00:00,  3.51it/s]\n"
     ]
    },
    {
     "name": "stdout",
     "output_type": "stream",
     "text": [
      "user is predicted asian\n",
      "11 Asians found with running rating of 45/5\n",
      "looking at user id 5Xrxvvyn9HOaM_dqiP6MZw\n",
      "Face could not be detected. Please confirm that the picture is a face photo or consider to set enforce_detection param to False.\n",
      "looking at user id AS0uNwHwECs7NpXroM5WJw\n",
      "Face could not be detected. Please confirm that the picture is a face photo or consider to set enforce_detection param to False.\n",
      "looking at user id nK1cZXx2BMjwOo49lOdH7g\n",
      "Face could not be detected. Please confirm that the picture is a face photo or consider to set enforce_detection param to False.\n",
      "looking at user id o8MJUnLKYCV1RJPtPEAHMw\n",
      "Face could not be detected. Please confirm that the picture is a face photo or consider to set enforce_detection param to False.\n"
     ]
    }
   ],
   "source": [
    "results = []\n",
    "\n",
    "# Get Asian star rating\n",
    "while count_asians < desired_asians:\n",
    "    if page_count>0:\n",
    "        restaurant_url = '{0}/?start={1}&sort_by=date_desc'.format(example_restaurant_url, page_count*10)\n",
    "    else:\n",
    "        restaurant_url = '{0}/?sort_by=date_desc'.format(example_restaurant_url, page_count*10)\n",
    "\n",
    "    print(f'url: {restaurant_url}')\n",
    "\n",
    "    # Get reviews\n",
    "    html_page = get_url(restaurant_url)\n",
    "    soup = BeautifulSoup(html_page, 'html.parser')\n",
    "    reviews = soup.select(\"div[class^='review']\")\n",
    "\n",
    "    for review in reviews:\n",
    "        try:\n",
    "            # Get user photo url\n",
    "            user_url = review.select(\"a[href^='/user_details']\")[0]['href']\n",
    "            user_id = user_url[user_url.find('userid=')+len('userid='):]\n",
    "            user_base_url = 'https://www.yelp.com/user_details?userid='\n",
    "            user_url = '{0}{1}'.format(user_base_url, user_id)\n",
    "\n",
    "            print('looking at user id {0}'.format(user_id))\n",
    "\n",
    "            # Get user photo\n",
    "            html_page = get_url(user_url)\n",
    "            soup = BeautifulSoup(html_page, 'html.parser')\n",
    "            user_photo_url = soup.select('div.user-profile_avatar img')[0]['src']\n",
    "\n",
    "            # Guess user race\n",
    "            guessed_race = None\n",
    "            try: \n",
    "                guessed_race_dict = DeepFace.analyze(\n",
    "                    img_path = user_photo_url, \n",
    "                    actions = ['race']\n",
    "                )[0]['race']\n",
    "                guessed_race = argmax(guessed_race_dict)\n",
    "                print('user is predicted {0}'.format(guessed_race))\n",
    "            except ValueError as e:\n",
    "                print(e)\n",
    "                \n",
    "            # Get review star rating\n",
    "            star_rating = int(\n",
    "                review.select(\"div[class^='five-stars']\")[0]['aria-label'][0]\n",
    "            )\n",
    "            \n",
    "            # TODO: Get text here\n",
    "            \n",
    "            \n",
    "            # Append results\n",
    "            results.append({\n",
    "                'restaurant_url': restaurant_url,\n",
    "                'user_url': user_url,\n",
    "                'guessed_race': guessed_race,\n",
    "                'star_rating': star_rating,\n",
    "                #'text':  TODO\n",
    "            })\n",
    "\n",
    "            if guessed_race and guessed_race==\"asian\":\n",
    "                count_asians += 1\n",
    "\n",
    "                running_asian_star_total += star_rating\n",
    "                print(f'{count_asians} Asians found with running rating of {running_asian_star_total/count_asians}/5')\n",
    "\n",
    "                time.sleep(1)\n",
    "            \n",
    "        except Exception as e:\n",
    "            print(e)\n",
    "            print(traceback.format_exc())\n",
    "            pass\n",
    "\n",
    "    page_count += 1\n",
    "\n",
    "asian_average = running_asian_star_total / count_asians"
   ]
  },
  {
   "cell_type": "code",
   "execution_count": 99,
   "id": "8f7a14d9-93c0-48de-8dce-83c0be23ed89",
   "metadata": {},
   "outputs": [
    {
     "name": "stdout",
     "output_type": "stream",
     "text": [
      "Overall rating: 3.5\n",
      "Asian rating: 3.8\n"
     ]
    }
   ],
   "source": [
    "print('Overall rating: {0}'.format(overall_star_rating))\n",
    "print('Asian rating: {0:.1f}'.format(asian_average))"
   ]
  },
  {
   "cell_type": "code",
   "execution_count": 121,
   "id": "57bcbdca-8cd4-493e-8230-d12fb7918d28",
   "metadata": {},
   "outputs": [
    {
     "data": {
      "text/plain": [
       "{'restaurant_url': 'https://www.yelp.com/biz/china-palace-ypsilanti-2/?sort_by=date_desc',\n",
       " 'user_url': 'https://www.yelp.com/user_details?userid=tVaRKAMi70Ir44L5Y9l1HA',\n",
       " 'guessed_race': None,\n",
       " 'star_rating': 1}"
      ]
     },
     "execution_count": 121,
     "metadata": {},
     "output_type": "execute_result"
    }
   ],
   "source": [
    "results[0]"
   ]
  },
  {
   "cell_type": "code",
   "execution_count": 122,
   "id": "e4398473-7a9b-4f73-ba77-f2b11d3dd37f",
   "metadata": {},
   "outputs": [
    {
     "data": {
      "text/html": [
       "<div>\n",
       "<style scoped>\n",
       "    .dataframe tbody tr th:only-of-type {\n",
       "        vertical-align: middle;\n",
       "    }\n",
       "\n",
       "    .dataframe tbody tr th {\n",
       "        vertical-align: top;\n",
       "    }\n",
       "\n",
       "    .dataframe thead th {\n",
       "        text-align: right;\n",
       "    }\n",
       "</style>\n",
       "<table border=\"1\" class=\"dataframe\">\n",
       "  <thead>\n",
       "    <tr style=\"text-align: right;\">\n",
       "      <th></th>\n",
       "      <th>restaurant_url</th>\n",
       "      <th>user_url</th>\n",
       "      <th>guessed_race</th>\n",
       "      <th>star_rating</th>\n",
       "    </tr>\n",
       "  </thead>\n",
       "  <tbody>\n",
       "    <tr>\n",
       "      <th>0</th>\n",
       "      <td>https://www.yelp.com/biz/china-palace-ypsilant...</td>\n",
       "      <td>https://www.yelp.com/user_details?userid=tVaRK...</td>\n",
       "      <td>None</td>\n",
       "      <td>1</td>\n",
       "    </tr>\n",
       "    <tr>\n",
       "      <th>1</th>\n",
       "      <td>https://www.yelp.com/biz/china-palace-ypsilant...</td>\n",
       "      <td>https://www.yelp.com/user_details?userid=N_LXF...</td>\n",
       "      <td>None</td>\n",
       "      <td>1</td>\n",
       "    </tr>\n",
       "    <tr>\n",
       "      <th>2</th>\n",
       "      <td>https://www.yelp.com/biz/china-palace-ypsilant...</td>\n",
       "      <td>https://www.yelp.com/user_details?userid=bA6ad...</td>\n",
       "      <td>asian</td>\n",
       "      <td>4</td>\n",
       "    </tr>\n",
       "    <tr>\n",
       "      <th>3</th>\n",
       "      <td>https://www.yelp.com/biz/china-palace-ypsilant...</td>\n",
       "      <td>https://www.yelp.com/user_details?userid=UrdLZ...</td>\n",
       "      <td>None</td>\n",
       "      <td>4</td>\n",
       "    </tr>\n",
       "    <tr>\n",
       "      <th>4</th>\n",
       "      <td>https://www.yelp.com/biz/china-palace-ypsilant...</td>\n",
       "      <td>https://www.yelp.com/user_details?userid=wQubH...</td>\n",
       "      <td>asian</td>\n",
       "      <td>2</td>\n",
       "    </tr>\n",
       "  </tbody>\n",
       "</table>\n",
       "</div>"
      ],
      "text/plain": [
       "                                      restaurant_url  \\\n",
       "0  https://www.yelp.com/biz/china-palace-ypsilant...   \n",
       "1  https://www.yelp.com/biz/china-palace-ypsilant...   \n",
       "2  https://www.yelp.com/biz/china-palace-ypsilant...   \n",
       "3  https://www.yelp.com/biz/china-palace-ypsilant...   \n",
       "4  https://www.yelp.com/biz/china-palace-ypsilant...   \n",
       "\n",
       "                                            user_url guessed_race  star_rating  \n",
       "0  https://www.yelp.com/user_details?userid=tVaRK...         None            1  \n",
       "1  https://www.yelp.com/user_details?userid=N_LXF...         None            1  \n",
       "2  https://www.yelp.com/user_details?userid=bA6ad...        asian            4  \n",
       "3  https://www.yelp.com/user_details?userid=UrdLZ...         None            4  \n",
       "4  https://www.yelp.com/user_details?userid=wQubH...        asian            2  "
      ]
     },
     "execution_count": 122,
     "metadata": {},
     "output_type": "execute_result"
    }
   ],
   "source": [
    "results_df = pd.DataFrame(results)\n",
    "results_df.head()"
   ]
  },
  {
   "cell_type": "code",
   "execution_count": 123,
   "id": "7fc12d17-b3af-4117-a3af-413c0a3c85fd",
   "metadata": {},
   "outputs": [
    {
     "data": {
      "text/plain": [
       "3.1666666666666665"
      ]
     },
     "execution_count": 123,
     "metadata": {},
     "output_type": "execute_result"
    }
   ],
   "source": [
    "results_df[results_df.guessed_race=='asian']['star_rating'].mean()"
   ]
  },
  {
   "cell_type": "code",
   "execution_count": 124,
   "id": "a1f486d1-6f57-43a4-a99e-82e924f88835",
   "metadata": {},
   "outputs": [
    {
     "data": {
      "text/plain": [
       "2.6052631578947367"
      ]
     },
     "execution_count": 124,
     "metadata": {},
     "output_type": "execute_result"
    }
   ],
   "source": [
    "results_df[results_df.guessed_race!='asian']['star_rating'].mean()"
   ]
  },
  {
   "cell_type": "code",
   "execution_count": 125,
   "id": "7f22725f-4399-4237-b133-34127834e785",
   "metadata": {},
   "outputs": [
    {
     "data": {
      "text/plain": [
       "2.74"
      ]
     },
     "execution_count": 125,
     "metadata": {},
     "output_type": "execute_result"
    }
   ],
   "source": [
    "results_df['star_rating'].mean()"
   ]
  },
  {
   "cell_type": "code",
   "execution_count": 126,
   "id": "01de9382-1f80-4dba-8403-d5c43523127a",
   "metadata": {},
   "outputs": [],
   "source": [
    "results_df.to_csv('results.csv', mode='a', index=False, header=False)"
   ]
  },
  {
   "cell_type": "code",
   "execution_count": null,
   "id": "b2a67411-53c8-4314-acd1-2b529cd9ce40",
   "metadata": {},
   "outputs": [],
   "source": []
  }
 ],
 "metadata": {
  "kernelspec": {
   "display_name": "Python 3",
   "language": "python",
   "name": "python3"
  },
  "language_info": {
   "codemirror_mode": {
    "name": "ipython",
    "version": 3
   },
   "file_extension": ".py",
   "mimetype": "text/x-python",
   "name": "python",
   "nbconvert_exporter": "python",
   "pygments_lexer": "ipython3",
   "version": "3.8.12"
  }
 },
 "nbformat": 4,
 "nbformat_minor": 5
}