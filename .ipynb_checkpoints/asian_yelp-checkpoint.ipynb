{
 "cells": [
  {
   "cell_type": "code",
   "execution_count": null,
   "id": "8f127eb2-11c8-4642-8d65-3e91e3dcd810",
   "metadata": {},
   "outputs": [],
   "source": [
    "import pandas as pd\n",
    "import numpy as np\n",
    "import matplotlib.pyplot as plt\n",
    "import json\n",
    "from bs4 import BeautifulSoup\n",
    "from urllib.request import Request, urlopen\n",
    "import time\n",
    "import requests\n",
    "from deepface import DeepFace"
   ]
  },
  {
   "cell_type": "code",
   "execution_count": null,
   "id": "c6f9a52a-beb8-4746-9f46-c31b8cec8ef9",
   "metadata": {},
   "outputs": [],
   "source": []
  },
  {
   "cell_type": "code",
   "execution_count": null,
   "id": "19cc1abc-4bbe-447a-b8be-cffcd5f8e652",
   "metadata": {},
   "outputs": [],
   "source": []
  },
  {
   "cell_type": "code",
   "execution_count": 2,
   "id": "94c45e23-7edf-425d-8c81-f146f444d3c8",
   "metadata": {},
   "outputs": [
    {
     "data": {
      "text/plain": [
       "3.5"
      ]
     },
     "execution_count": 2,
     "metadata": {},
     "output_type": "execute_result"
    }
   ],
   "source": [
    "page_count = 0\n",
    "running_asian_star_total = 0\n",
    "count_asians = 0\n",
    "desired_asians = 10\n",
    "\n",
    "example_restaurant_url = 'https://www.yelp.com/biz/shangri-la-west-bloomfield'\n",
    "\n",
    "# Get total star rating\n",
    "req = Request(example_restaurant_url)\n",
    "html_page = urlopen(req)\n",
    "soup = BeautifulSoup(html_page, 'html.parser')\n",
    "\n",
    "# ANNOYING- why is it that there's a space before 'five-stars' to find it if using Chrome, but not if using selector?\n",
    "overall_star_rating = float(\n",
    "    soup.select(\"div[data-testid='review-summary'] div[class^='five-stars']\")[0]['aria-label'][:-len(' star rating')]\n",
    ")\n",
    "overall_star_rating"
   ]
  },
  {
   "cell_type": "code",
   "execution_count": 3,
   "id": "2563e18a-5270-48e4-86fc-b25bae8a6d6b",
   "metadata": {},
   "outputs": [],
   "source": [
    "def get_user_id(review):\n",
    "    user_url = soup.select(\"a[href^='/user_details']\")[0]['href']\n",
    "    user_id = user_url[user_url.find('userid=')+len('userid='):]\n",
    "    user_base_url = 'https://www.yelp.com/user_details?userid='\n",
    "    user_url = '{0}{1}'.format(user_base_url, user_id)\n",
    "\n",
    "def get_url(url):\n",
    "    req = Request(url)\n",
    "    while True:\n",
    "        try:\n",
    "            html_page = urlopen(req) \n",
    "            break\n",
    "        # TODO: Fix\n",
    "        except requests.exceptions.HTTPError as err:\n",
    "            print(err.response.status_code)\n",
    "            print(err.response.text)\n",
    "            time.sleep(10)\n",
    "            pass\n",
    "    return html_page"
   ]
  },
  {
   "cell_type": "code",
   "execution_count": 4,
   "id": "4b88f93e-edc4-429a-80db-f8f922d30b75",
   "metadata": {},
   "outputs": [
    {
     "data": {
      "text/plain": [
       "<http.client.HTTPResponse at 0x7f7d03929520>"
      ]
     },
     "execution_count": 4,
     "metadata": {},
     "output_type": "execute_result"
    }
   ],
   "source": [
    "get_url('https://www.gmail.com')"
   ]
  },
  {
   "cell_type": "code",
   "execution_count": 5,
   "id": "4867a372-2e29-40e8-bf4f-2ed2442c8066",
   "metadata": {},
   "outputs": [
    {
     "data": {
      "text/plain": [
       "<http.client.HTTPResponse at 0x7f7d03401e80>"
      ]
     },
     "execution_count": 5,
     "metadata": {},
     "output_type": "execute_result"
    }
   ],
   "source": [
    "get_url('https://www.yelp.com/biz/china-palace-ypsilanti-2?start=20')"
   ]
  },
  {
   "cell_type": "code",
   "execution_count": null,
   "id": "96c7ba96-24ca-4c2f-a181-b9f65a22be9b",
   "metadata": {},
   "outputs": [],
   "source": []
  },
  {
   "cell_type": "code",
   "execution_count": null,
   "id": "57741fc2-53e4-4b66-ba2a-6afe64b3deea",
   "metadata": {},
   "outputs": [],
   "source": [
    "# Get Asian star rating\n",
    "while count_asians < desired_asians:\n",
    "    if page_count>0:\n",
    "        url = '{0}/?start={1}'.format(example_restaurant_url, page_count*10)\n",
    "    else:\n",
    "        url = example_restaurant_url\n",
    "\n",
    "    print(f'url: {url}')\n",
    "\n",
    "    # Get reviews\n",
    "    html_page = get_url(url)\n",
    "    soup = BeautifulSoup(html_page, 'html.parser')\n",
    "    reviews = soup.select(\"div[class^=' review']\")\n",
    "\n",
    "    for review in reviews:\n",
    "    # Get user photo url\n",
    "    user_url = review.select(\"a[href^='/user_details']\")[0]['href']\n",
    "    user_id = user_url[user_url.find('userid=')+len('userid='):]\n",
    "    user_base_url = 'https://www.yelp.com/user_details?userid='\n",
    "    user_url = '{0}{1}'.format(user_base_url, user_id)\n",
    "\n",
    "    print('looking at user id {0}'.format(user_id))\n",
    "\n",
    "    # Get user photo\n",
    "    html_page = get_url(url)\n",
    "    soup = BeautifulSoup(html_page, 'html.parser')\n",
    "    user_photo_url = soup.select('div.user-profile_avatar img')[0]['src']\n",
    "\n",
    "    # Guess user race\n",
    "    guessed_race = None\n",
    "    try: \n",
    "        guessed_race = DeepFace.analyze(\n",
    "            img_path = user_photo_url, \n",
    "            actions = ['race']\n",
    "        )\n",
    "    except ValueError as e:\n",
    "        print(e)\n",
    "\n",
    "    if guessed_race and \"Asian\" in  guessed_race[0]['dominant_race']:\n",
    "        count_asians += 1\n",
    "\n",
    "        # Get review star rating\n",
    "        star_rating = int(\n",
    "            review.select(\"div[class^=' five-stars']\")[0]['aria-label'][0]\n",
    "        )\n",
    "\n",
    "        running_asian_star_total += star_rating\n",
    "\n",
    "        time.sleep(1)\n",
    "\n",
    "    page_count += 1\n",
    "\n",
    "asian_average = running_asian_star_total / count_asians"
   ]
  }
 ],
 "metadata": {
  "kernelspec": {
   "display_name": "Python 3",
   "language": "python",
   "name": "python3"
  },
  "language_info": {
   "codemirror_mode": {
    "name": "ipython",
    "version": 3
   },
   "file_extension": ".py",
   "mimetype": "text/x-python",
   "name": "python",
   "nbconvert_exporter": "python",
   "pygments_lexer": "ipython3",
   "version": "3.8.8"
  }
 },
 "nbformat": 4,
 "nbformat_minor": 5
}
